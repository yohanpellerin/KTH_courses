{
 "cells": [
  {
   "cell_type": "markdown",
   "id": "d808f56a-ae1e-4931-a677-432d16ef64cc",
   "metadata": {},
   "source": [
    "# Exercise 1\n",
    "\n",
    "Write one (and only one) PyTorch expression per cell. Don't use any Python loops, ever.\n",
    "There is always a simple way of achieving the expected result, so if you find yourself\n",
    "writing very complex expressions, you are probably on the wrong track.\n",
    "\n",
    "Here is a bunch of functions that will be useful:\n",
    " - `torch.add`\n",
    " - `torch.Tensor.add_`\n",
    " - `torch.cat`\n",
    " - `torch.max`\n",
    " - `torch.rand`\n",
    " - `torch.reshape`\n",
    " - `torch.softmax`\n",
    " - `torch.stack`\n",
    " - `torch.tensor`\n",
    " - `torch.transpose`\n",
    "\n",
    "Note that many expressions can be written in an abbreviated way, e.g. instead of writing `torch.Tensor.add_(t,1)`, one can write `t.add_(1)`.\n",
    "\n",
    "In the cells with a comment starting with \"Verify\", you don't have to write anything, \n",
    "but just run the cell and make sure you get the tensor \"True\" as the result."
   ]
  },
  {
   "cell_type": "code",
   "execution_count": 1,
   "id": "7f9a2ddb-1e2c-488f-8dce-d8de8b8d23a7",
   "metadata": {},
   "outputs": [],
   "source": [
    "# Run this cell first.\n",
    "import torch\n",
    "_ = torch.manual_seed(42)"
   ]
  },
  {
   "cell_type": "code",
   "execution_count": null,
   "id": "b4280da5-8507-491f-ba9c-fc1d40e110b1",
   "metadata": {},
   "outputs": [],
   "source": [
    "# Create a tensor from this list, and give it the name 't':\n",
    "# [[1.2, 3.4, 5.6], [7.8, 9.1, 2.3], [4.5, 6.7, 8.9]]"
   ]
  },
  {
   "cell_type": "code",
   "execution_count": null,
   "id": "f7be707c-ea49-4b31-a238-c85a7e4d2867",
   "metadata": {},
   "outputs": [],
   "source": [
    "# t can be seen as a two-dimensional array. Now matrix-multiply t with \n",
    "# its transpose, using a single instruction. Call the result 's'."
   ]
  },
  {
   "cell_type": "code",
   "execution_count": null,
   "id": "07123540-dafd-47de-8dd5-e07da025be0e",
   "metadata": {},
   "outputs": [],
   "source": [
    "# Make a tensor of [0.1, 0.2, 0.3] and add it to every row in s using \n",
    "# only one instruction (and no loops). Call the resulting tensor 'v'."
   ]
  },
  {
   "cell_type": "code",
   "execution_count": null,
   "id": "fe18c41b-26fa-4b00-b123-2e3c23feb6df",
   "metadata": {},
   "outputs": [],
   "source": [
    "# Verify that the following condition is true:\n",
    "torch.isclose( v[1,1] + s[1,1], torch.tensor(298.08))"
   ]
  },
  {
   "cell_type": "code",
   "execution_count": null,
   "id": "99c3dde3-da5b-4ebb-b6f9-be638694fde6",
   "metadata": {},
   "outputs": [],
   "source": [
    "# Create a three-dimensional tensor 'a' containing s and t as elements.\n",
    "# The shape of 'a' should be [2,3,3]. "
   ]
  },
  {
   "cell_type": "code",
   "execution_count": null,
   "id": "a0179e5c-2268-41dc-96c8-824eb5bf9c9b",
   "metadata": {},
   "outputs": [],
   "source": [
    "# Create a tensor of shape [2,3,3] of random numbers between 0 and 1, \n",
    "# and add it to 'a'. Call the resulting tensor 'b'."
   ]
  },
  {
   "cell_type": "code",
   "execution_count": null,
   "id": "f999e4c4-828f-4dbb-bc73-1b5db65b5f3b",
   "metadata": {},
   "outputs": [],
   "source": [
    "# Now normalize 'b' by dividing every element by its largest element.\n",
    "# Call the resulting tensor 'c'."
   ]
  },
  {
   "cell_type": "code",
   "execution_count": null,
   "id": "418cc665-930c-4cea-8efa-6936a5ded4e6",
   "metadata": {},
   "outputs": [],
   "source": [
    "# Verify:\n",
    "torch.isclose(c[1,1,2], torch.tensor(0.0204), 0.01)"
   ]
  },
  {
   "cell_type": "code",
   "execution_count": null,
   "id": "4d5d81ab-ec74-4c70-9ccb-a2cc229e94dd",
   "metadata": {},
   "outputs": [],
   "source": [
    "# Put the two matrices in 'c' on top of each other in a single matrix.\n",
    "# Call the resulting tensor 'd'. It should have the shape [6,3]."
   ]
  },
  {
   "cell_type": "code",
   "execution_count": null,
   "id": "1dc54e20-a4e0-47dd-b6c7-8a1779cfbf7a",
   "metadata": {},
   "outputs": [],
   "source": [
    "_ = torch.manual_seed(42)\n",
    "# Generate a 6x3 tensor of random numbers between 0 and 1. \n",
    "# Then extend every row of 'd' with the corresponding row of the\n",
    "# random tensor. The resulting tensor should have the shape [6,6].\n",
    "# Call it 'e'."
   ]
  },
  {
   "cell_type": "code",
   "execution_count": null,
   "id": "e6779be2-48d2-424a-aff7-9a645a08b7d1",
   "metadata": {},
   "outputs": [],
   "source": [
    "# Verify:\n",
    "torch.isclose(e[5,0], torch.tensor(0.033), 0.01)"
   ]
  },
  {
   "cell_type": "code",
   "execution_count": null,
   "id": "f10b2ef3-370b-4d09-a22b-6086d16fbe3e",
   "metadata": {},
   "outputs": [],
   "source": [
    "# Find out the datatype of e. "
   ]
  },
  {
   "cell_type": "code",
   "execution_count": null,
   "id": "a21d7340-8de5-430d-9d15-4debdc2c9e2d",
   "metadata": {},
   "outputs": [],
   "source": [
    "# Without making an assignment, add 0.1 to e[1,5]."
   ]
  },
  {
   "cell_type": "code",
   "execution_count": null,
   "id": "24525dc8-5751-467d-be39-ec3e4bb9862a",
   "metadata": {},
   "outputs": [],
   "source": [
    "# Verify:\n",
    "torch.isclose(e[1,5], torch.tensor(0.701), 0.01)"
   ]
  },
  {
   "cell_type": "code",
   "execution_count": null,
   "id": "ac8a5f7e-cef4-4a22-8c81-0f187a30f5a6",
   "metadata": {},
   "outputs": [],
   "source": [
    "# We now want to apply the softmax function to each row of 'e' independently,\n",
    "# so that each row of 'e' defines its own probability distribution. Call the\n",
    "# the resulting tensor 'f'."
   ]
  },
  {
   "cell_type": "code",
   "execution_count": null,
   "id": "6e3e7739-b592-4b5e-acab-cf9e2c270510",
   "metadata": {},
   "outputs": [],
   "source": [
    "# Verify:\n",
    "torch.allclose(f.sum(dim=1), torch.tensor(1.))"
   ]
  }
 ],
 "metadata": {
  "kernelspec": {
   "display_name": "Python 3 (ipykernel)",
   "language": "python",
   "name": "python3"
  },
  "language_info": {
   "codemirror_mode": {
    "name": "ipython",
    "version": 3
   },
   "file_extension": ".py",
   "mimetype": "text/x-python",
   "name": "python",
   "nbconvert_exporter": "python",
   "pygments_lexer": "ipython3",
   "version": "3.10.13"
  }
 },
 "nbformat": 4,
 "nbformat_minor": 5
}
